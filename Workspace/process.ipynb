{
 "cells": [
  {
   "cell_type": "markdown",
   "metadata": {},
   "source": [
    "## Test cases for invitation Link\n",
    "- if no account is associated with the email, send a link which can redirect the user to signup page in some way. \n",
    "- if an account is associated with the emial, but the user is not logged in currently, then send a link which will lead/ redirect the user to login page.\n",
    "- if an account is associated with the email, and the user is logged in, then that link should directly take the user that particular workspace.\n",
    "\n"
   ]
  },
  {
   "cell_type": "markdown",
   "metadata": {},
   "source": [
    "\n",
    "- for point 1, need to check how to redirect to signup in the invitation link\n",
    "- same thing for login redirection\n",
    "- for third, directly redirect the user to the respective workspace "
   ]
  },
  {
   "cell_type": "markdown",
   "metadata": {},
   "source": []
  }
 ],
 "metadata": {
  "language_info": {
   "name": "python"
  }
 },
 "nbformat": 4,
 "nbformat_minor": 2
}
