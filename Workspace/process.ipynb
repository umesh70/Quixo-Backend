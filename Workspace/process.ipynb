{
 "cells": [
  {
   "cell_type": "markdown",
   "metadata": {},
   "source": [
    "## Test cases for invitation Link\n",
    "- if no account is associated with the email, send a link which can redirect the user to signup page in some way. \n",
    "- if an account is associated with the emial, but the user is not logged in currently, then send a link which will lead/ redirect the user to login page.\n",
    "- if an account is associated with the email, and the user is logged in, then that link should directly take the user that particular workspace.\n",
    "\n"
   ]
  },
  {
   "cell_type": "markdown",
   "metadata": {},
   "source": [
    "\n",
    "- for point 1, need to check how to redirect to signup in the invitation link\n",
    "- same thing for login redirection\n",
    "- for third, directly redirect the user to the respective workspace "
   ]
  },
  {
   "cell_type": "markdown",
   "metadata": {},
   "source": [
    "# Logic for Invitation Link\n",
    "\n",
    "*this is after generating invite link*\n",
    "\n",
    "- After creating invitation link we need to verify that whether the user who is now logging in or signing up using the link is the same person for whom the invitation is intended for.\n",
    "\n",
    "- For this we need to modify our sign up and log in API to add the following cases.<br><br>\n",
    "    *Signup modification*<br>\n",
    "    - At the start of the signup api check whether the json data has any token or not in token DB\n",
    "    - If not do normal signup\n",
    "    - If yes, check whether this token is same as the token stored against the email present in json data.\n",
    "        - If yes, then add the workspace for that user and also delete the token against that email from db, because we have already added the user in that workspace \n",
    "        - If no, means some other user is trying to signing up using that link so send some appropriate error message\n",
    "\n",
    "    *login modfication*\n",
    "    - Similarly for login API, check whether any login Token is present for the json data in the token DB.\n",
    "    - If not, authenticate the user in normal way\n",
    "    - If yes, check whether any invitation token is present in the invitation DB.\n",
    "        - If yes, authenticate the user and add it to workspace member, and delete the relevant invitation token.\n",
    "        - If not, invalid login attempt\n",
    "    \n",
    "\n"
   ]
  },
  {
   "cell_type": "markdown",
   "metadata": {},
   "source": []
  },
  {
   "cell_type": "markdown",
   "metadata": {},
   "source": []
  }
 ],
 "metadata": {
  "language_info": {
   "name": "python"
  }
 },
 "nbformat": 4,
 "nbformat_minor": 2
}
